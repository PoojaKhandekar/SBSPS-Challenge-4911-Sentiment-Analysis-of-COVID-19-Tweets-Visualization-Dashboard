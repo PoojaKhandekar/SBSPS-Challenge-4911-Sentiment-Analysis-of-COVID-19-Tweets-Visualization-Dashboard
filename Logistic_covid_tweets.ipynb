{
 "cells": [
  {
   "cell_type": "code",
   "execution_count": 1,
   "metadata": {},
   "outputs": [],
   "source": [
    "import nltk\n",
    "import random\n",
    "import pandas as pd\n",
    "import matplotlib.pyplot as plt\n",
    "import re"
   ]
  },
  {
   "cell_type": "code",
   "execution_count": 17,
   "metadata": {},
   "outputs": [],
   "source": [
    "train = pd.read_csv(\"text_emotion.csv\", usecols = ['content','sentiment'])"
   ]
  },
  {
   "cell_type": "code",
   "execution_count": 18,
   "metadata": {},
   "outputs": [
    {
     "data": {
      "text/html": [
       "<div>\n",
       "<style scoped>\n",
       "    .dataframe tbody tr th:only-of-type {\n",
       "        vertical-align: middle;\n",
       "    }\n",
       "\n",
       "    .dataframe tbody tr th {\n",
       "        vertical-align: top;\n",
       "    }\n",
       "\n",
       "    .dataframe thead th {\n",
       "        text-align: right;\n",
       "    }\n",
       "</style>\n",
       "<table border=\"1\" class=\"dataframe\">\n",
       "  <thead>\n",
       "    <tr style=\"text-align: right;\">\n",
       "      <th></th>\n",
       "      <th>sentiment</th>\n",
       "      <th>content</th>\n",
       "    </tr>\n",
       "  </thead>\n",
       "  <tbody>\n",
       "    <tr>\n",
       "      <th>0</th>\n",
       "      <td>empty</td>\n",
       "      <td>@tiffanylue i know  i was listenin to bad habi...</td>\n",
       "    </tr>\n",
       "    <tr>\n",
       "      <th>1</th>\n",
       "      <td>sadness</td>\n",
       "      <td>Layin n bed with a headache  ughhhh...waitin o...</td>\n",
       "    </tr>\n",
       "    <tr>\n",
       "      <th>2</th>\n",
       "      <td>sadness</td>\n",
       "      <td>Funeral ceremony...gloomy friday...</td>\n",
       "    </tr>\n",
       "    <tr>\n",
       "      <th>3</th>\n",
       "      <td>enthusiasm</td>\n",
       "      <td>wants to hang out with friends SOON!</td>\n",
       "    </tr>\n",
       "    <tr>\n",
       "      <th>4</th>\n",
       "      <td>neutral</td>\n",
       "      <td>@dannycastillo We want to trade with someone w...</td>\n",
       "    </tr>\n",
       "  </tbody>\n",
       "</table>\n",
       "</div>"
      ],
      "text/plain": [
       "    sentiment                                            content\n",
       "0       empty  @tiffanylue i know  i was listenin to bad habi...\n",
       "1     sadness  Layin n bed with a headache  ughhhh...waitin o...\n",
       "2     sadness                Funeral ceremony...gloomy friday...\n",
       "3  enthusiasm               wants to hang out with friends SOON!\n",
       "4     neutral  @dannycastillo We want to trade with someone w..."
      ]
     },
     "execution_count": 18,
     "metadata": {},
     "output_type": "execute_result"
    }
   ],
   "source": [
    "train.head()"
   ]
  },
  {
   "cell_type": "code",
   "execution_count": 19,
   "metadata": {},
   "outputs": [],
   "source": [
    "from sklearn.preprocessing import OneHotEncoder"
   ]
  },
  {
   "cell_type": "code",
   "execution_count": 20,
   "metadata": {},
   "outputs": [
    {
     "data": {
      "text/html": [
       "<div>\n",
       "<style scoped>\n",
       "    .dataframe tbody tr th:only-of-type {\n",
       "        vertical-align: middle;\n",
       "    }\n",
       "\n",
       "    .dataframe tbody tr th {\n",
       "        vertical-align: top;\n",
       "    }\n",
       "\n",
       "    .dataframe thead th {\n",
       "        text-align: right;\n",
       "    }\n",
       "</style>\n",
       "<table border=\"1\" class=\"dataframe\">\n",
       "  <thead>\n",
       "    <tr style=\"text-align: right;\">\n",
       "      <th></th>\n",
       "      <th>anger</th>\n",
       "      <th>boredom</th>\n",
       "      <th>empty</th>\n",
       "      <th>enthusiasm</th>\n",
       "      <th>fun</th>\n",
       "      <th>happiness</th>\n",
       "      <th>hate</th>\n",
       "      <th>love</th>\n",
       "      <th>neutral</th>\n",
       "      <th>relief</th>\n",
       "      <th>sadness</th>\n",
       "      <th>surprise</th>\n",
       "      <th>worry</th>\n",
       "    </tr>\n",
       "  </thead>\n",
       "  <tbody>\n",
       "    <tr>\n",
       "      <th>0</th>\n",
       "      <td>0</td>\n",
       "      <td>0</td>\n",
       "      <td>1</td>\n",
       "      <td>0</td>\n",
       "      <td>0</td>\n",
       "      <td>0</td>\n",
       "      <td>0</td>\n",
       "      <td>0</td>\n",
       "      <td>0</td>\n",
       "      <td>0</td>\n",
       "      <td>0</td>\n",
       "      <td>0</td>\n",
       "      <td>0</td>\n",
       "    </tr>\n",
       "    <tr>\n",
       "      <th>1</th>\n",
       "      <td>0</td>\n",
       "      <td>0</td>\n",
       "      <td>0</td>\n",
       "      <td>0</td>\n",
       "      <td>0</td>\n",
       "      <td>0</td>\n",
       "      <td>0</td>\n",
       "      <td>0</td>\n",
       "      <td>0</td>\n",
       "      <td>0</td>\n",
       "      <td>1</td>\n",
       "      <td>0</td>\n",
       "      <td>0</td>\n",
       "    </tr>\n",
       "    <tr>\n",
       "      <th>2</th>\n",
       "      <td>0</td>\n",
       "      <td>0</td>\n",
       "      <td>0</td>\n",
       "      <td>0</td>\n",
       "      <td>0</td>\n",
       "      <td>0</td>\n",
       "      <td>0</td>\n",
       "      <td>0</td>\n",
       "      <td>0</td>\n",
       "      <td>0</td>\n",
       "      <td>1</td>\n",
       "      <td>0</td>\n",
       "      <td>0</td>\n",
       "    </tr>\n",
       "    <tr>\n",
       "      <th>3</th>\n",
       "      <td>0</td>\n",
       "      <td>0</td>\n",
       "      <td>0</td>\n",
       "      <td>1</td>\n",
       "      <td>0</td>\n",
       "      <td>0</td>\n",
       "      <td>0</td>\n",
       "      <td>0</td>\n",
       "      <td>0</td>\n",
       "      <td>0</td>\n",
       "      <td>0</td>\n",
       "      <td>0</td>\n",
       "      <td>0</td>\n",
       "    </tr>\n",
       "    <tr>\n",
       "      <th>4</th>\n",
       "      <td>0</td>\n",
       "      <td>0</td>\n",
       "      <td>0</td>\n",
       "      <td>0</td>\n",
       "      <td>0</td>\n",
       "      <td>0</td>\n",
       "      <td>0</td>\n",
       "      <td>0</td>\n",
       "      <td>1</td>\n",
       "      <td>0</td>\n",
       "      <td>0</td>\n",
       "      <td>0</td>\n",
       "      <td>0</td>\n",
       "    </tr>\n",
       "  </tbody>\n",
       "</table>\n",
       "</div>"
      ],
      "text/plain": [
       "   anger  boredom  empty  enthusiasm  fun  happiness  hate  love  neutral  \\\n",
       "0      0        0      1           0    0          0     0     0        0   \n",
       "1      0        0      0           0    0          0     0     0        0   \n",
       "2      0        0      0           0    0          0     0     0        0   \n",
       "3      0        0      0           1    0          0     0     0        0   \n",
       "4      0        0      0           0    0          0     0     0        1   \n",
       "\n",
       "   relief  sadness  surprise  worry  \n",
       "0       0        0         0      0  \n",
       "1       0        1         0      0  \n",
       "2       0        1         0      0  \n",
       "3       0        0         0      0  \n",
       "4       0        0         0      0  "
      ]
     },
     "execution_count": 20,
     "metadata": {},
     "output_type": "execute_result"
    }
   ],
   "source": [
    "ohe = OneHotEncoder()\n",
    "random = pd.get_dummies(train['sentiment'])\n",
    "random.head()"
   ]
  },
  {
   "cell_type": "code",
   "execution_count": 22,
   "metadata": {},
   "outputs": [
    {
     "data": {
      "text/html": [
       "<div>\n",
       "<style scoped>\n",
       "    .dataframe tbody tr th:only-of-type {\n",
       "        vertical-align: middle;\n",
       "    }\n",
       "\n",
       "    .dataframe tbody tr th {\n",
       "        vertical-align: top;\n",
       "    }\n",
       "\n",
       "    .dataframe thead th {\n",
       "        text-align: right;\n",
       "    }\n",
       "</style>\n",
       "<table border=\"1\" class=\"dataframe\">\n",
       "  <thead>\n",
       "    <tr style=\"text-align: right;\">\n",
       "      <th></th>\n",
       "      <th>sentiment</th>\n",
       "      <th>content</th>\n",
       "      <th>anger</th>\n",
       "      <th>boredom</th>\n",
       "      <th>empty</th>\n",
       "      <th>enthusiasm</th>\n",
       "      <th>fun</th>\n",
       "      <th>happiness</th>\n",
       "      <th>hate</th>\n",
       "      <th>love</th>\n",
       "      <th>neutral</th>\n",
       "      <th>relief</th>\n",
       "      <th>sadness</th>\n",
       "      <th>surprise</th>\n",
       "      <th>worry</th>\n",
       "    </tr>\n",
       "  </thead>\n",
       "  <tbody>\n",
       "    <tr>\n",
       "      <th>0</th>\n",
       "      <td>empty</td>\n",
       "      <td>@tiffanylue i know  i was listenin to bad habi...</td>\n",
       "      <td>0</td>\n",
       "      <td>0</td>\n",
       "      <td>1</td>\n",
       "      <td>0</td>\n",
       "      <td>0</td>\n",
       "      <td>0</td>\n",
       "      <td>0</td>\n",
       "      <td>0</td>\n",
       "      <td>0</td>\n",
       "      <td>0</td>\n",
       "      <td>0</td>\n",
       "      <td>0</td>\n",
       "      <td>0</td>\n",
       "    </tr>\n",
       "    <tr>\n",
       "      <th>1</th>\n",
       "      <td>sadness</td>\n",
       "      <td>Layin n bed with a headache  ughhhh...waitin o...</td>\n",
       "      <td>0</td>\n",
       "      <td>0</td>\n",
       "      <td>0</td>\n",
       "      <td>0</td>\n",
       "      <td>0</td>\n",
       "      <td>0</td>\n",
       "      <td>0</td>\n",
       "      <td>0</td>\n",
       "      <td>0</td>\n",
       "      <td>0</td>\n",
       "      <td>1</td>\n",
       "      <td>0</td>\n",
       "      <td>0</td>\n",
       "    </tr>\n",
       "    <tr>\n",
       "      <th>2</th>\n",
       "      <td>sadness</td>\n",
       "      <td>Funeral ceremony...gloomy friday...</td>\n",
       "      <td>0</td>\n",
       "      <td>0</td>\n",
       "      <td>0</td>\n",
       "      <td>0</td>\n",
       "      <td>0</td>\n",
       "      <td>0</td>\n",
       "      <td>0</td>\n",
       "      <td>0</td>\n",
       "      <td>0</td>\n",
       "      <td>0</td>\n",
       "      <td>1</td>\n",
       "      <td>0</td>\n",
       "      <td>0</td>\n",
       "    </tr>\n",
       "    <tr>\n",
       "      <th>3</th>\n",
       "      <td>enthusiasm</td>\n",
       "      <td>wants to hang out with friends SOON!</td>\n",
       "      <td>0</td>\n",
       "      <td>0</td>\n",
       "      <td>0</td>\n",
       "      <td>1</td>\n",
       "      <td>0</td>\n",
       "      <td>0</td>\n",
       "      <td>0</td>\n",
       "      <td>0</td>\n",
       "      <td>0</td>\n",
       "      <td>0</td>\n",
       "      <td>0</td>\n",
       "      <td>0</td>\n",
       "      <td>0</td>\n",
       "    </tr>\n",
       "    <tr>\n",
       "      <th>4</th>\n",
       "      <td>neutral</td>\n",
       "      <td>@dannycastillo We want to trade with someone w...</td>\n",
       "      <td>0</td>\n",
       "      <td>0</td>\n",
       "      <td>0</td>\n",
       "      <td>0</td>\n",
       "      <td>0</td>\n",
       "      <td>0</td>\n",
       "      <td>0</td>\n",
       "      <td>0</td>\n",
       "      <td>1</td>\n",
       "      <td>0</td>\n",
       "      <td>0</td>\n",
       "      <td>0</td>\n",
       "      <td>0</td>\n",
       "    </tr>\n",
       "  </tbody>\n",
       "</table>\n",
       "</div>"
      ],
      "text/plain": [
       "    sentiment                                            content  anger  \\\n",
       "0       empty  @tiffanylue i know  i was listenin to bad habi...      0   \n",
       "1     sadness  Layin n bed with a headache  ughhhh...waitin o...      0   \n",
       "2     sadness                Funeral ceremony...gloomy friday...      0   \n",
       "3  enthusiasm               wants to hang out with friends SOON!      0   \n",
       "4     neutral  @dannycastillo We want to trade with someone w...      0   \n",
       "\n",
       "   boredom  empty  enthusiasm  fun  happiness  hate  love  neutral  relief  \\\n",
       "0        0      1           0    0          0     0     0        0       0   \n",
       "1        0      0           0    0          0     0     0        0       0   \n",
       "2        0      0           0    0          0     0     0        0       0   \n",
       "3        0      0           1    0          0     0     0        0       0   \n",
       "4        0      0           0    0          0     0     0        1       0   \n",
       "\n",
       "   sadness  surprise  worry  \n",
       "0        0         0      0  \n",
       "1        1         0      0  \n",
       "2        1         0      0  \n",
       "3        0         0      0  \n",
       "4        0         0      0  "
      ]
     },
     "execution_count": 22,
     "metadata": {},
     "output_type": "execute_result"
    }
   ],
   "source": [
    "train = pd.concat([train, random], axis = 1)\n",
    "train.head()"
   ]
  },
  {
   "cell_type": "code",
   "execution_count": 23,
   "metadata": {},
   "outputs": [],
   "source": [
    "train.drop(columns = ['sentiment'], inplace=True)"
   ]
  },
  {
   "cell_type": "code",
   "execution_count": 27,
   "metadata": {},
   "outputs": [
    {
     "name": "stdout",
     "output_type": "stream",
     "text": [
      "40000\n"
     ]
    }
   ],
   "source": [
    "print(train.shape[0])"
   ]
  },
  {
   "cell_type": "code",
   "execution_count": 28,
   "metadata": {},
   "outputs": [],
   "source": [
    "targets = [\"anger\",\"boredom\",\"empty\",\"enthusiasm\",\"fun\",\"happiness\",\"hate\",\"love\",\"neutral\",\"relief\",\"sadness\",\"surprise\",\"worry\"]"
   ]
  },
  {
   "cell_type": "code",
   "execution_count": 29,
   "metadata": {},
   "outputs": [],
   "source": [
    "def cleaning(sen):\n",
    "    sen = re.sub(r\"what's\",\"what is\",sen)\n",
    "    sen = re.sub(r\"\\'s'\",\" \",sen)\n",
    "    sen = re.sub(r\"\\'ve'\",\" have \",sen)\n",
    "    sen = re.sub(r\"can't\",\"cannot\",sen)\n",
    "    sen = re.sub(r\"n't\",\" not \",sen)\n",
    "    sen = re.sub(r\"i'm\",\"i am \",sen)\n",
    "    sen = re.sub(r\"\\'re'\",\" are \",sen)\n",
    "    sen = re.sub(r\"\\'d\",\" would \",sen)\n",
    "    sen = re.sub(r\"\\'ll\",\"will\",sen)\n",
    "    sen = re.sub(r\"\\'scuse\", \"excuse\",sen)\n",
    "    sen = re.sub(\"\\W\",\" \",sen)\n",
    "    sen = re.sub(r\"\\s+\",\" \",sen)\n",
    "    sen = sen.strip(' ')\n",
    "    return sen"
   ]
  },
  {
   "cell_type": "code",
   "execution_count": 30,
   "metadata": {},
   "outputs": [],
   "source": [
    "cleaned_training_data = []\n",
    "for i in range(len(train)):\n",
    "    cleaned_comment = cleaning(train[\"content\"][i])\n",
    "    cleaned_training_data.append(cleaned_comment)\n",
    "train[\"content\"] = pd.Series(cleaned_training_data).astype(str)"
   ]
  },
  {
   "cell_type": "code",
   "execution_count": 31,
   "metadata": {},
   "outputs": [
    {
     "data": {
      "text/html": [
       "<div>\n",
       "<style scoped>\n",
       "    .dataframe tbody tr th:only-of-type {\n",
       "        vertical-align: middle;\n",
       "    }\n",
       "\n",
       "    .dataframe tbody tr th {\n",
       "        vertical-align: top;\n",
       "    }\n",
       "\n",
       "    .dataframe thead th {\n",
       "        text-align: right;\n",
       "    }\n",
       "</style>\n",
       "<table border=\"1\" class=\"dataframe\">\n",
       "  <thead>\n",
       "    <tr style=\"text-align: right;\">\n",
       "      <th></th>\n",
       "      <th>content</th>\n",
       "      <th>anger</th>\n",
       "      <th>boredom</th>\n",
       "      <th>empty</th>\n",
       "      <th>enthusiasm</th>\n",
       "      <th>fun</th>\n",
       "      <th>happiness</th>\n",
       "      <th>hate</th>\n",
       "      <th>love</th>\n",
       "      <th>neutral</th>\n",
       "      <th>relief</th>\n",
       "      <th>sadness</th>\n",
       "      <th>surprise</th>\n",
       "      <th>worry</th>\n",
       "    </tr>\n",
       "  </thead>\n",
       "  <tbody>\n",
       "    <tr>\n",
       "      <th>0</th>\n",
       "      <td>tiffanylue i know i was listenin to bad habit ...</td>\n",
       "      <td>0</td>\n",
       "      <td>0</td>\n",
       "      <td>1</td>\n",
       "      <td>0</td>\n",
       "      <td>0</td>\n",
       "      <td>0</td>\n",
       "      <td>0</td>\n",
       "      <td>0</td>\n",
       "      <td>0</td>\n",
       "      <td>0</td>\n",
       "      <td>0</td>\n",
       "      <td>0</td>\n",
       "      <td>0</td>\n",
       "    </tr>\n",
       "    <tr>\n",
       "      <th>1</th>\n",
       "      <td>Layin n bed with a headache ughhhh waitin on y...</td>\n",
       "      <td>0</td>\n",
       "      <td>0</td>\n",
       "      <td>0</td>\n",
       "      <td>0</td>\n",
       "      <td>0</td>\n",
       "      <td>0</td>\n",
       "      <td>0</td>\n",
       "      <td>0</td>\n",
       "      <td>0</td>\n",
       "      <td>0</td>\n",
       "      <td>1</td>\n",
       "      <td>0</td>\n",
       "      <td>0</td>\n",
       "    </tr>\n",
       "    <tr>\n",
       "      <th>2</th>\n",
       "      <td>Funeral ceremony gloomy friday</td>\n",
       "      <td>0</td>\n",
       "      <td>0</td>\n",
       "      <td>0</td>\n",
       "      <td>0</td>\n",
       "      <td>0</td>\n",
       "      <td>0</td>\n",
       "      <td>0</td>\n",
       "      <td>0</td>\n",
       "      <td>0</td>\n",
       "      <td>0</td>\n",
       "      <td>1</td>\n",
       "      <td>0</td>\n",
       "      <td>0</td>\n",
       "    </tr>\n",
       "    <tr>\n",
       "      <th>3</th>\n",
       "      <td>wants to hang out with friends SOON</td>\n",
       "      <td>0</td>\n",
       "      <td>0</td>\n",
       "      <td>0</td>\n",
       "      <td>1</td>\n",
       "      <td>0</td>\n",
       "      <td>0</td>\n",
       "      <td>0</td>\n",
       "      <td>0</td>\n",
       "      <td>0</td>\n",
       "      <td>0</td>\n",
       "      <td>0</td>\n",
       "      <td>0</td>\n",
       "      <td>0</td>\n",
       "    </tr>\n",
       "    <tr>\n",
       "      <th>4</th>\n",
       "      <td>dannycastillo We want to trade with someone wh...</td>\n",
       "      <td>0</td>\n",
       "      <td>0</td>\n",
       "      <td>0</td>\n",
       "      <td>0</td>\n",
       "      <td>0</td>\n",
       "      <td>0</td>\n",
       "      <td>0</td>\n",
       "      <td>0</td>\n",
       "      <td>1</td>\n",
       "      <td>0</td>\n",
       "      <td>0</td>\n",
       "      <td>0</td>\n",
       "      <td>0</td>\n",
       "    </tr>\n",
       "  </tbody>\n",
       "</table>\n",
       "</div>"
      ],
      "text/plain": [
       "                                             content  anger  boredom  empty  \\\n",
       "0  tiffanylue i know i was listenin to bad habit ...      0        0      1   \n",
       "1  Layin n bed with a headache ughhhh waitin on y...      0        0      0   \n",
       "2                     Funeral ceremony gloomy friday      0        0      0   \n",
       "3                wants to hang out with friends SOON      0        0      0   \n",
       "4  dannycastillo We want to trade with someone wh...      0        0      0   \n",
       "\n",
       "   enthusiasm  fun  happiness  hate  love  neutral  relief  sadness  surprise  \\\n",
       "0           0    0          0     0     0        0       0        0         0   \n",
       "1           0    0          0     0     0        0       0        1         0   \n",
       "2           0    0          0     0     0        0       0        1         0   \n",
       "3           1    0          0     0     0        0       0        0         0   \n",
       "4           0    0          0     0     0        1       0        0         0   \n",
       "\n",
       "   worry  \n",
       "0      0  \n",
       "1      0  \n",
       "2      0  \n",
       "3      0  \n",
       "4      0  "
      ]
     },
     "execution_count": 31,
     "metadata": {},
     "output_type": "execute_result"
    }
   ],
   "source": [
    "train.head()"
   ]
  },
  {
   "cell_type": "code",
   "execution_count": 33,
   "metadata": {},
   "outputs": [],
   "source": [
    "from sklearn.model_selection import train_test_split"
   ]
  },
  {
   "cell_type": "code",
   "execution_count": 53,
   "metadata": {},
   "outputs": [],
   "source": [
    "length = train.shape[0]"
   ]
  },
  {
   "cell_type": "code",
   "execution_count": 55,
   "metadata": {},
   "outputs": [
    {
     "data": {
      "text/plain": [
       "32000"
      ]
     },
     "execution_count": 55,
     "metadata": {},
     "output_type": "execute_result"
    }
   ],
   "source": [
    "int(length*0.8)"
   ]
  },
  {
   "cell_type": "code",
   "execution_count": 59,
   "metadata": {},
   "outputs": [
    {
     "data": {
      "text/plain": [
       "(32000,)"
      ]
     },
     "execution_count": 59,
     "metadata": {},
     "output_type": "execute_result"
    }
   ],
   "source": [
    "X_train.shape"
   ]
  },
  {
   "cell_type": "code",
   "execution_count": 60,
   "metadata": {},
   "outputs": [],
   "source": [
    "X_train = train.content[0:int(length*0.8)]\n",
    "X_test = train.content[int(length*0.8):int(length + 1)]"
   ]
  },
  {
   "cell_type": "code",
   "execution_count": 61,
   "metadata": {},
   "outputs": [],
   "source": [
    "from sklearn.feature_extraction.text import TfidfVectorizer\n",
    "vector = TfidfVectorizer(max_features=15, min_df=2)"
   ]
  },
  {
   "cell_type": "code",
   "execution_count": 62,
   "metadata": {},
   "outputs": [],
   "source": [
    "X_train_dtm = vector.fit_transform(X_train)\n",
    "X_test_dtm = vector.fit_transform(X_test)"
   ]
  },
  {
   "cell_type": "code",
   "execution_count": 63,
   "metadata": {},
   "outputs": [],
   "source": [
    "from sklearn.linear_model import LogisticRegression\n",
    "from sklearn.metrics import accuracy_score\n",
    "model_log = LogisticRegression(C=6.0)"
   ]
  },
  {
   "cell_type": "code",
   "execution_count": 82,
   "metadata": {},
   "outputs": [],
   "source": [
    "submission = train[int(length*0.8):length]"
   ]
  },
  {
   "cell_type": "code",
   "execution_count": 83,
   "metadata": {},
   "outputs": [
    {
     "data": {
      "text/plain": [
       "(8000, 14)"
      ]
     },
     "execution_count": 83,
     "metadata": {},
     "output_type": "execute_result"
    }
   ],
   "source": [
    "submission.shape"
   ]
  },
  {
   "cell_type": "code",
   "execution_count": 86,
   "metadata": {},
   "outputs": [
    {
     "name": "stdout",
     "output_type": "stream",
     "text": [
      "...On the label:anger\n",
      "Training accuracy: 0.9969375\n",
      "...On the label:boredom\n",
      "Training accuracy: 0.99496875\n",
      "...On the label:empty\n",
      "Training accuracy: 0.97815625\n"
     ]
    },
    {
     "name": "stderr",
     "output_type": "stream",
     "text": [
      "D:\\Anaconda\\Anaconda_installation\\lib\\site-packages\\ipykernel_launcher.py:11: SettingWithCopyWarning: \n",
      "A value is trying to be set on a copy of a slice from a DataFrame.\n",
      "Try using .loc[row_indexer,col_indexer] = value instead\n",
      "\n",
      "See the caveats in the documentation: https://pandas.pydata.org/pandas-docs/stable/user_guide/indexing.html#returning-a-view-versus-a-copy\n",
      "  # This is added back by InteractiveShellApp.init_path()\n",
      "D:\\Anaconda\\Anaconda_installation\\lib\\site-packages\\ipykernel_launcher.py:11: SettingWithCopyWarning: \n",
      "A value is trying to be set on a copy of a slice from a DataFrame.\n",
      "Try using .loc[row_indexer,col_indexer] = value instead\n",
      "\n",
      "See the caveats in the documentation: https://pandas.pydata.org/pandas-docs/stable/user_guide/indexing.html#returning-a-view-versus-a-copy\n",
      "  # This is added back by InteractiveShellApp.init_path()\n",
      "D:\\Anaconda\\Anaconda_installation\\lib\\site-packages\\ipykernel_launcher.py:11: SettingWithCopyWarning: \n",
      "A value is trying to be set on a copy of a slice from a DataFrame.\n",
      "Try using .loc[row_indexer,col_indexer] = value instead\n",
      "\n",
      "See the caveats in the documentation: https://pandas.pydata.org/pandas-docs/stable/user_guide/indexing.html#returning-a-view-versus-a-copy\n",
      "  # This is added back by InteractiveShellApp.init_path()\n"
     ]
    },
    {
     "name": "stdout",
     "output_type": "stream",
     "text": [
      "...On the label:enthusiasm\n",
      "Training accuracy: 0.98228125\n",
      "...On the label:fun\n",
      "Training accuracy: 0.96103125\n",
      "...On the label:happiness\n",
      "Training accuracy: 0.8926875\n",
      "...On the label:hate\n"
     ]
    },
    {
     "name": "stderr",
     "output_type": "stream",
     "text": [
      "D:\\Anaconda\\Anaconda_installation\\lib\\site-packages\\ipykernel_launcher.py:11: SettingWithCopyWarning: \n",
      "A value is trying to be set on a copy of a slice from a DataFrame.\n",
      "Try using .loc[row_indexer,col_indexer] = value instead\n",
      "\n",
      "See the caveats in the documentation: https://pandas.pydata.org/pandas-docs/stable/user_guide/indexing.html#returning-a-view-versus-a-copy\n",
      "  # This is added back by InteractiveShellApp.init_path()\n",
      "D:\\Anaconda\\Anaconda_installation\\lib\\site-packages\\ipykernel_launcher.py:11: SettingWithCopyWarning: \n",
      "A value is trying to be set on a copy of a slice from a DataFrame.\n",
      "Try using .loc[row_indexer,col_indexer] = value instead\n",
      "\n",
      "See the caveats in the documentation: https://pandas.pydata.org/pandas-docs/stable/user_guide/indexing.html#returning-a-view-versus-a-copy\n",
      "  # This is added back by InteractiveShellApp.init_path()\n",
      "D:\\Anaconda\\Anaconda_installation\\lib\\site-packages\\ipykernel_launcher.py:11: SettingWithCopyWarning: \n",
      "A value is trying to be set on a copy of a slice from a DataFrame.\n",
      "Try using .loc[row_indexer,col_indexer] = value instead\n",
      "\n",
      "See the caveats in the documentation: https://pandas.pydata.org/pandas-docs/stable/user_guide/indexing.html#returning-a-view-versus-a-copy\n",
      "  # This is added back by InteractiveShellApp.init_path()\n",
      "D:\\Anaconda\\Anaconda_installation\\lib\\site-packages\\ipykernel_launcher.py:11: SettingWithCopyWarning: \n",
      "A value is trying to be set on a copy of a slice from a DataFrame.\n",
      "Try using .loc[row_indexer,col_indexer] = value instead\n",
      "\n",
      "See the caveats in the documentation: https://pandas.pydata.org/pandas-docs/stable/user_guide/indexing.html#returning-a-view-versus-a-copy\n",
      "  # This is added back by InteractiveShellApp.init_path()\n"
     ]
    },
    {
     "name": "stdout",
     "output_type": "stream",
     "text": [
      "Training accuracy: 0.962\n",
      "...On the label:love\n",
      "Training accuracy: 0.925375\n",
      "...On the label:neutral\n",
      "Training accuracy: 0.7878125\n",
      "...On the label:relief\n",
      "Training accuracy: 0.9646875\n",
      "...On the label:sadness\n"
     ]
    },
    {
     "name": "stderr",
     "output_type": "stream",
     "text": [
      "D:\\Anaconda\\Anaconda_installation\\lib\\site-packages\\ipykernel_launcher.py:11: SettingWithCopyWarning: \n",
      "A value is trying to be set on a copy of a slice from a DataFrame.\n",
      "Try using .loc[row_indexer,col_indexer] = value instead\n",
      "\n",
      "See the caveats in the documentation: https://pandas.pydata.org/pandas-docs/stable/user_guide/indexing.html#returning-a-view-versus-a-copy\n",
      "  # This is added back by InteractiveShellApp.init_path()\n",
      "D:\\Anaconda\\Anaconda_installation\\lib\\site-packages\\ipykernel_launcher.py:11: SettingWithCopyWarning: \n",
      "A value is trying to be set on a copy of a slice from a DataFrame.\n",
      "Try using .loc[row_indexer,col_indexer] = value instead\n",
      "\n",
      "See the caveats in the documentation: https://pandas.pydata.org/pandas-docs/stable/user_guide/indexing.html#returning-a-view-versus-a-copy\n",
      "  # This is added back by InteractiveShellApp.init_path()\n",
      "D:\\Anaconda\\Anaconda_installation\\lib\\site-packages\\ipykernel_launcher.py:11: SettingWithCopyWarning: \n",
      "A value is trying to be set on a copy of a slice from a DataFrame.\n",
      "Try using .loc[row_indexer,col_indexer] = value instead\n",
      "\n",
      "See the caveats in the documentation: https://pandas.pydata.org/pandas-docs/stable/user_guide/indexing.html#returning-a-view-versus-a-copy\n",
      "  # This is added back by InteractiveShellApp.init_path()\n",
      "D:\\Anaconda\\Anaconda_installation\\lib\\site-packages\\ipykernel_launcher.py:11: SettingWithCopyWarning: \n",
      "A value is trying to be set on a copy of a slice from a DataFrame.\n",
      "Try using .loc[row_indexer,col_indexer] = value instead\n",
      "\n",
      "See the caveats in the documentation: https://pandas.pydata.org/pandas-docs/stable/user_guide/indexing.html#returning-a-view-versus-a-copy\n",
      "  # This is added back by InteractiveShellApp.init_path()\n"
     ]
    },
    {
     "name": "stdout",
     "output_type": "stream",
     "text": [
      "Training accuracy: 0.8473125\n",
      "...On the label:surprise\n",
      "Training accuracy: 0.94553125\n",
      "...On the label:worry\n",
      "Training accuracy: 0.76121875\n"
     ]
    },
    {
     "name": "stderr",
     "output_type": "stream",
     "text": [
      "D:\\Anaconda\\Anaconda_installation\\lib\\site-packages\\ipykernel_launcher.py:11: SettingWithCopyWarning: \n",
      "A value is trying to be set on a copy of a slice from a DataFrame.\n",
      "Try using .loc[row_indexer,col_indexer] = value instead\n",
      "\n",
      "See the caveats in the documentation: https://pandas.pydata.org/pandas-docs/stable/user_guide/indexing.html#returning-a-view-versus-a-copy\n",
      "  # This is added back by InteractiveShellApp.init_path()\n",
      "D:\\Anaconda\\Anaconda_installation\\lib\\site-packages\\ipykernel_launcher.py:11: SettingWithCopyWarning: \n",
      "A value is trying to be set on a copy of a slice from a DataFrame.\n",
      "Try using .loc[row_indexer,col_indexer] = value instead\n",
      "\n",
      "See the caveats in the documentation: https://pandas.pydata.org/pandas-docs/stable/user_guide/indexing.html#returning-a-view-versus-a-copy\n",
      "  # This is added back by InteractiveShellApp.init_path()\n"
     ]
    }
   ],
   "source": [
    "for label in targets:\n",
    "    print(\"...On the label:{}\".format(label))\n",
    "    y = train[label][0:int(length*0.8)]\n",
    "    # train the model using X_train_dtm and y\n",
    "    model_log.fit(X_train_dtm, y)\n",
    "    # computing the training accuracy\n",
    "    predictions = model_log.predict(X_train_dtm)\n",
    "    print(\"Training accuracy: {}\".format(accuracy_score(y, predictions)))\n",
    "    # compute the predicted probabilities for X_test_dtm\n",
    "    probability = model_log.predict_proba(X_test_dtm)[:,1]\n",
    "    submission[label] = probability"
   ]
  },
  {
   "cell_type": "code",
   "execution_count": 87,
   "metadata": {},
   "outputs": [
    {
     "data": {
      "text/html": [
       "<div>\n",
       "<style scoped>\n",
       "    .dataframe tbody tr th:only-of-type {\n",
       "        vertical-align: middle;\n",
       "    }\n",
       "\n",
       "    .dataframe tbody tr th {\n",
       "        vertical-align: top;\n",
       "    }\n",
       "\n",
       "    .dataframe thead th {\n",
       "        text-align: right;\n",
       "    }\n",
       "</style>\n",
       "<table border=\"1\" class=\"dataframe\">\n",
       "  <thead>\n",
       "    <tr style=\"text-align: right;\">\n",
       "      <th></th>\n",
       "      <th>content</th>\n",
       "      <th>anger</th>\n",
       "      <th>boredom</th>\n",
       "      <th>empty</th>\n",
       "      <th>enthusiasm</th>\n",
       "      <th>fun</th>\n",
       "      <th>happiness</th>\n",
       "      <th>hate</th>\n",
       "      <th>love</th>\n",
       "      <th>neutral</th>\n",
       "      <th>relief</th>\n",
       "      <th>sadness</th>\n",
       "      <th>surprise</th>\n",
       "      <th>worry</th>\n",
       "    </tr>\n",
       "  </thead>\n",
       "  <tbody>\n",
       "    <tr>\n",
       "      <th>32000</th>\n",
       "      <td>ReBeLR My day was cool a lil twisted I wo not ...</td>\n",
       "      <td>0.004153</td>\n",
       "      <td>0.006029</td>\n",
       "      <td>0.017673</td>\n",
       "      <td>0.009308</td>\n",
       "      <td>0.025020</td>\n",
       "      <td>0.056135</td>\n",
       "      <td>0.039942</td>\n",
       "      <td>0.044529</td>\n",
       "      <td>0.148030</td>\n",
       "      <td>0.039449</td>\n",
       "      <td>0.189499</td>\n",
       "      <td>0.050032</td>\n",
       "      <td>0.357893</td>\n",
       "    </tr>\n",
       "    <tr>\n",
       "      <th>32001</th>\n",
       "      <td>is on air</td>\n",
       "      <td>0.002797</td>\n",
       "      <td>0.004847</td>\n",
       "      <td>0.022201</td>\n",
       "      <td>0.020459</td>\n",
       "      <td>0.044390</td>\n",
       "      <td>0.138154</td>\n",
       "      <td>0.034435</td>\n",
       "      <td>0.065648</td>\n",
       "      <td>0.231022</td>\n",
       "      <td>0.036110</td>\n",
       "      <td>0.123153</td>\n",
       "      <td>0.064849</td>\n",
       "      <td>0.213445</td>\n",
       "    </tr>\n",
       "    <tr>\n",
       "      <th>32002</th>\n",
       "      <td>greenpolkadot99 u go to profile then ill help ...</td>\n",
       "      <td>0.001824</td>\n",
       "      <td>0.006310</td>\n",
       "      <td>0.026510</td>\n",
       "      <td>0.031125</td>\n",
       "      <td>0.039602</td>\n",
       "      <td>0.105747</td>\n",
       "      <td>0.031666</td>\n",
       "      <td>0.056261</td>\n",
       "      <td>0.251819</td>\n",
       "      <td>0.033291</td>\n",
       "      <td>0.151225</td>\n",
       "      <td>0.041304</td>\n",
       "      <td>0.223382</td>\n",
       "    </tr>\n",
       "    <tr>\n",
       "      <th>32003</th>\n",
       "      <td>Platypuses are the only mammals that can lay eggs</td>\n",
       "      <td>0.002332</td>\n",
       "      <td>0.002908</td>\n",
       "      <td>0.015706</td>\n",
       "      <td>0.011815</td>\n",
       "      <td>0.042186</td>\n",
       "      <td>0.110098</td>\n",
       "      <td>0.053409</td>\n",
       "      <td>0.091216</td>\n",
       "      <td>0.173826</td>\n",
       "      <td>0.034453</td>\n",
       "      <td>0.151798</td>\n",
       "      <td>0.081620</td>\n",
       "      <td>0.223703</td>\n",
       "    </tr>\n",
       "    <tr>\n",
       "      <th>32004</th>\n",
       "      <td>loadedman look at my background that s how I w...</td>\n",
       "      <td>0.003657</td>\n",
       "      <td>0.002683</td>\n",
       "      <td>0.014409</td>\n",
       "      <td>0.010397</td>\n",
       "      <td>0.031897</td>\n",
       "      <td>0.081884</td>\n",
       "      <td>0.048450</td>\n",
       "      <td>0.086958</td>\n",
       "      <td>0.125450</td>\n",
       "      <td>0.030676</td>\n",
       "      <td>0.205284</td>\n",
       "      <td>0.060375</td>\n",
       "      <td>0.309756</td>\n",
       "    </tr>\n",
       "  </tbody>\n",
       "</table>\n",
       "</div>"
      ],
      "text/plain": [
       "                                                 content     anger   boredom  \\\n",
       "32000  ReBeLR My day was cool a lil twisted I wo not ...  0.004153  0.006029   \n",
       "32001                                          is on air  0.002797  0.004847   \n",
       "32002  greenpolkadot99 u go to profile then ill help ...  0.001824  0.006310   \n",
       "32003  Platypuses are the only mammals that can lay eggs  0.002332  0.002908   \n",
       "32004  loadedman look at my background that s how I w...  0.003657  0.002683   \n",
       "\n",
       "          empty  enthusiasm       fun  happiness      hate      love  \\\n",
       "32000  0.017673    0.009308  0.025020   0.056135  0.039942  0.044529   \n",
       "32001  0.022201    0.020459  0.044390   0.138154  0.034435  0.065648   \n",
       "32002  0.026510    0.031125  0.039602   0.105747  0.031666  0.056261   \n",
       "32003  0.015706    0.011815  0.042186   0.110098  0.053409  0.091216   \n",
       "32004  0.014409    0.010397  0.031897   0.081884  0.048450  0.086958   \n",
       "\n",
       "        neutral    relief   sadness  surprise     worry  \n",
       "32000  0.148030  0.039449  0.189499  0.050032  0.357893  \n",
       "32001  0.231022  0.036110  0.123153  0.064849  0.213445  \n",
       "32002  0.251819  0.033291  0.151225  0.041304  0.223382  \n",
       "32003  0.173826  0.034453  0.151798  0.081620  0.223703  \n",
       "32004  0.125450  0.030676  0.205284  0.060375  0.309756  "
      ]
     },
     "execution_count": 87,
     "metadata": {},
     "output_type": "execute_result"
    }
   ],
   "source": [
    "submission.head()"
   ]
  },
  {
   "cell_type": "code",
   "execution_count": 88,
   "metadata": {},
   "outputs": [],
   "source": [
    "submission.to_csv(\"submission_covid.csv\", index=False)"
   ]
  },
  {
   "cell_type": "code",
   "execution_count": 21,
   "metadata": {},
   "outputs": [],
   "source": [
    "my_submission = pd.read_csv(\"submission_logreg_2.csv\")"
   ]
  },
  {
   "cell_type": "code",
   "execution_count": 24,
   "metadata": {},
   "outputs": [
    {
     "data": {
      "text/plain": [
       "(11, 7)"
      ]
     },
     "execution_count": 24,
     "metadata": {},
     "output_type": "execute_result"
    }
   ],
   "source": [
    "my_submission.shape"
   ]
  },
  {
   "cell_type": "code",
   "execution_count": null,
   "metadata": {},
   "outputs": [],
   "source": []
  }
 ],
 "metadata": {
  "kernelspec": {
   "display_name": "Python 3",
   "language": "python",
   "name": "python3"
  },
  "language_info": {
   "codemirror_mode": {
    "name": "ipython",
    "version": 3
   },
   "file_extension": ".py",
   "mimetype": "text/x-python",
   "name": "python",
   "nbconvert_exporter": "python",
   "pygments_lexer": "ipython3",
   "version": "3.7.6"
  }
 },
 "nbformat": 4,
 "nbformat_minor": 2
}
